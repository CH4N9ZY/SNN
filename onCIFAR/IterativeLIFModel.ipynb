{
 "cells": [
  {
   "cell_type": "code",
   "execution_count": null,
   "metadata": {},
   "outputs": [],
   "source": [
    "import torch\n",
    "import torch.nn as nn\n",
    "import torch.nn.functional as F"
   ]
  },
  {
   "cell_type": "code",
   "execution_count": null,
   "metadata": {},
   "outputs": [],
   "source": [
    "decay = 0.2\n",
    "thresh = 0.5 # neuronal threshold\n",
    "lens = 1 # hyper-parameters of approximate function"
   ]
  },
  {
   "cell_type": "code",
   "execution_count": 5,
   "metadata": {},
   "outputs": [],
   "source": [
    "def mem_update(x, mem, spike):\n",
    "    '''\n",
    "    spike是指上一时刻有没有firing，如果有的话就通过它将mem重置为0\n",
    "    mem是指上一时刻的membrane potential，可以是大于threshold的，在计算这一时刻的时候重置就好了\n",
    "    decay是用来描述如果没有接收到脉冲，membrane potential会自然回落的机制\n",
    "    这个函数是用来计算这一时刻的membrane potential和是否spike的\n",
    "    输入：\n",
    "        接收到的信号（input），\n",
    "        上一时刻未重置的membrane potential（mem），\n",
    "        上一时刻是否spike（spike），\n",
    "        自然回落的速度（decay）\n",
    "    输出：\n",
    "        这一时刻未重置的membrane potential（mem），\n",
    "        这一时刻是否spike（spike）\n",
    "    '''\n",
    "    mem = decay * mem * (1. - spike) + x\n",
    "    spike = act_func(mem)\n",
    "    return mem, spike"
   ]
  },
  {
   "cell_type": "code",
   "execution_count": 6,
   "metadata": {},
   "outputs": [],
   "source": [
    "class act_func(torch.autograd.Function):\n",
    "    '''\n",
    "    因为这个函数需要自动求导，所以就要把它定义在autograd的类里面\n",
    "    '''\n",
    "    \n",
    "    @staticmethod\n",
    "    def forward(ctx, input):\n",
    "        ctx.save_for_backward(input)\n",
    "        return input.gt(thresh).float()\n",
    "    \n",
    "    @staticmethod\n",
    "    def backward(ctx, grad_output):\n",
    "        input, = ctx.saved_tensors\n",
    "        grad_input = grad_output * (1/lens) * (abs(input - thresh) < lens/2).float()\n",
    "        return grad_input"
   ]
  },
  {
   "cell_type": "code",
   "execution_count": null,
   "metadata": {},
   "outputs": [],
   "source": [
    "act_func = act_func.apply"
   ]
  }
 ],
 "metadata": {
  "kernelspec": {
   "display_name": "Python 3",
   "language": "python",
   "name": "python3"
  },
  "language_info": {
   "codemirror_mode": {
    "name": "ipython",
    "version": 3
   },
   "file_extension": ".py",
   "mimetype": "text/x-python",
   "name": "python",
   "nbconvert_exporter": "python",
   "pygments_lexer": "ipython3",
   "version": "3.8.5"
  }
 },
 "nbformat": 4,
 "nbformat_minor": 4
}
