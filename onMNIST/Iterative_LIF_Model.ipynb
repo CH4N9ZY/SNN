{
 "cells": [
  {
   "cell_type": "code",
   "execution_count": 1,
   "metadata": {},
   "outputs": [],
   "source": [
    "import torch\n",
    "import torch.nn as nn\n",
    "import torch.nn.functional as F"
   ]
  },
  {
   "cell_type": "code",
   "execution_count": 2,
   "metadata": {},
   "outputs": [],
   "source": [
    "thresh = 0.5 # neuronal threshold\n",
    "lens = 1 # hyper-parameters of approximate function\n",
    "#lens值不能太小，如果太小的话，传到前面的layer就会gradient vanishing，因为它有梯度的区域太小了，相当于任何信号都当作没有firing来处理\n",
    "#lens值也不能太大，如果太大，传到前面的layer就会gradient exploding，因为它有梯度的区域太大了，相当于任何信号都会被当作firing来处理"
   ]
  },
  {
   "cell_type": "code",
   "execution_count": 3,
   "metadata": {},
   "outputs": [],
   "source": [
    "class ActFun(torch.autograd.Function):\n",
    "    \n",
    "    @staticmethod\n",
    "    def forward(ctx, input):\n",
    "        ctx.save_for_backward(input)#把input变量保存到需要计算梯度的名单中（ctx不可写为其它的）\n",
    "        return input.gt(thresh).float()#greater than thresh就会返回1，小于等于就会得到0\n",
    "    \n",
    "    @staticmethod\n",
    "    def backward(ctx, grad_output):#grad_output是Loss对于ActFun的输出（y）的导数，这里要求Loss关于ActFun输入（x）的导数\n",
    "                                   #就像Loss = (y_hat - y)^2, y = ActFun(x)，Loss关于ActFun输入的导数就等于Loss关于y的导数乘y关于x的导数\n",
    "        input, = ctx.saved_tensors\n",
    "        grad_input = grad_output.clone()\n",
    "        temp = abs(input - thresh) < lens/2#因为正常的ActFun本身不可导（它是x超过threshold后从0直接跳跃到1的）\n",
    "                                         #所以用这个函数近似计算在该处的导数，在threshold附近导数值为1，其他地方导数为0\n",
    "        return grad_input * temp.float()*(1/lens)"
   ]
  },
  {
   "cell_type": "code",
   "execution_count": 4,
   "metadata": {},
   "outputs": [],
   "source": [
    "act_fun = ActFun.apply\n",
    "decay = 0.2"
   ]
  },
  {
   "cell_type": "code",
   "execution_count": 6,
   "metadata": {},
   "outputs": [],
   "source": [
    "def mem_update(ops, x, mem, spike, decay):\n",
    "    mem = mem * decay * (1. - spike) + ops(x)\n",
    "    spike = act_fun(mem) # act_fun : approximation firing function\n",
    "    return mem, spike"
   ]
  },
  {
   "cell_type": "code",
   "execution_count": null,
   "metadata": {},
   "outputs": [],
   "source": []
  }
 ],
 "metadata": {
  "kernelspec": {
   "display_name": "Python 3",
   "language": "python",
   "name": "python3"
  },
  "language_info": {
   "codemirror_mode": {
    "name": "ipython",
    "version": 3
   },
   "file_extension": ".py",
   "mimetype": "text/x-python",
   "name": "python",
   "nbconvert_exporter": "python",
   "pygments_lexer": "ipython3",
   "version": "3.8.5"
  }
 },
 "nbformat": 4,
 "nbformat_minor": 4
}
