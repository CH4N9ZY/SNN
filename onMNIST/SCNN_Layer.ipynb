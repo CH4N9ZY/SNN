{
 "cells": [
  {
   "cell_type": "code",
   "execution_count": 1,
   "metadata": {},
   "outputs": [],
   "source": [
    "import torch\n",
    "import torch.nn as nn\n",
    "import torch.nn.functional as F\n",
    "from Iterative_LIF_Model import mem_update, act_fun"
   ]
  },
  {
   "cell_type": "code",
   "execution_count": 2,
   "metadata": {},
   "outputs": [],
   "source": [
    "device = torch.device(\"cuda\" if torch.cuda.is_available() else \"cpu\")"
   ]
  },
  {
   "cell_type": "code",
   "execution_count": 3,
   "metadata": {},
   "outputs": [],
   "source": [
    "# cnn_layer(in_planes, out_planes, stride, padding, kernel_size)\n",
    "cfg_cnn = [(1, 32, 1, 1, 3), (32, 32, 1, 1, 3),]\n",
    "\n",
    "# kernel size\n",
    "cfg_kernel = [28, 14, 7]\n",
    "\n",
    "# fc layer\n",
    "cfg_fc = [128, 10]"
   ]
  },
  {
   "cell_type": "code",
   "execution_count": 4,
   "metadata": {},
   "outputs": [],
   "source": [
    "# Dacay learning_rate\n",
    "def lr_scheduler(optimizer, epoch, init_lr=0.1, lr_decay_epoch=50):\n",
    "    \"\"\"Decay learning rate by a factor of 0.1 every lr_decay_epoch epochs.\"\"\"\n",
    "    if epoch % lr_decay_epoch == 0 and epoch > 1:\n",
    "        for param_group in optimizer.param_groups:\n",
    "            param_group['lr'] = param_group['lr'] * 0.1\n",
    "    return optimizer"
   ]
  },
  {
   "cell_type": "code",
   "execution_count": 5,
   "metadata": {},
   "outputs": [],
   "source": [
    "batch_size  = 100\n",
    "learning_rate = 1e-3\n",
    "decay = 0.2"
   ]
  },
  {
   "cell_type": "code",
   "execution_count": 7,
   "metadata": {},
   "outputs": [],
   "source": [
    "class SCNN(nn.Module):\n",
    "    def __init__(self):\n",
    "        super(SCNN, self).__init__()\n",
    "        in_planes_0, out_planes_0, stride_0, padding_0, kernel_size_0 = cfg_cnn[0]\n",
    "        self.conv1 = nn.Conv2d(in_planes_0, out_planes_0, kernel_size=kernel_size_0, stride=stride_0, padding=padding_0)\n",
    "        in_planes_1, out_planes_1, stride_1, padding_1, kernel_size_1 = cfg_cnn[1]\n",
    "        self.conv2 = nn.Conv2d(in_planes_1, out_planes_1, kernel_size=kernel_size_1, stride=stride_1, padding=padding_1)\n",
    "\n",
    "        self.fc1 = nn.Linear(cfg_kernel[-1] * cfg_kernel[-1] * cfg_cnn[-1][1], cfg_fc[0])\n",
    "        self.fc2 = nn.Linear(cfg_fc[0], cfg_fc[1])\n",
    "\n",
    "    def forward(self, input, time_window = 20):\n",
    "        c1_mem = c1_spike = torch.zeros(batch_size, cfg_cnn[0][1], cfg_kernel[0], cfg_kernel[0], device=device)\n",
    "        c2_mem = c2_spike = torch.zeros(batch_size, cfg_cnn[1][1], cfg_kernel[1], cfg_kernel[1], device=device)\n",
    "\n",
    "        h1_mem = h1_spike = h1_sumspike = torch.zeros(batch_size, cfg_fc[0], device=device)\n",
    "        h2_mem = h2_spike = h2_sumspike = torch.zeros(batch_size, cfg_fc[1], device=device)\n",
    "\n",
    "        for step in range(time_window): # simulation time steps\n",
    "            x = input > torch.rand(input.size(), device=device) # prob. firing\n",
    "            #input就是100*1*28*28的图片，值都是0-1；torch.rand生成一个与input同形状的、值都是0-1的随机tensor\n",
    "\n",
    "            c1_mem, c1_spike = mem_update(self.conv1, x.float(), c1_mem, c1_spike, decay)\n",
    "\n",
    "            x = F.avg_pool2d(c1_spike, 2)\n",
    "\n",
    "            c2_mem, c2_spike = mem_update(self.conv2,x, c2_mem,c2_spike, decay)\n",
    "\n",
    "            x = F.avg_pool2d(c2_spike, 2)\n",
    "            x = x.view(batch_size, -1)\n",
    "\n",
    "            h1_mem, h1_spike = mem_update(self.fc1, x, h1_mem, h1_spike, decay)\n",
    "            h1_sumspike += h1_spike\n",
    "            h2_mem, h2_spike = mem_update(self.fc2, h1_spike, h2_mem,h2_spike, decay)\n",
    "            h2_sumspike += h2_spike\n",
    "\n",
    "        outputs = h2_sumspike / time_window\n",
    "        return outputs"
   ]
  },
  {
   "cell_type": "code",
   "execution_count": null,
   "metadata": {},
   "outputs": [],
   "source": []
  }
 ],
 "metadata": {
  "kernelspec": {
   "display_name": "Python 3",
   "language": "python",
   "name": "python3"
  },
  "language_info": {
   "codemirror_mode": {
    "name": "ipython",
    "version": 3
   },
   "file_extension": ".py",
   "mimetype": "text/x-python",
   "name": "python",
   "nbconvert_exporter": "python",
   "pygments_lexer": "ipython3",
   "version": "3.8.5"
  }
 },
 "nbformat": 4,
 "nbformat_minor": 4
}
