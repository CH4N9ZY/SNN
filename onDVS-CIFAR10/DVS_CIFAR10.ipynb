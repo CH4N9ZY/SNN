{
 "cells": [
  {
   "cell_type": "code",
   "execution_count": null,
   "metadata": {},
   "outputs": [],
   "source": [
    "class DVS_CIFAR10(Dataset):\n",
    "    \n",
    "    def __init__(self, dataPath, mode):#dataPath = '../../../DATA/DVS-CIFAR10/processed/'\n",
    "        self.mode = mode\n",
    "        self.dataPath = dataPath + 'tensor_' + self.mode + '/'\n",
    "        self.dataFiles = os.listdir(self.dataPath)#self.dataPath = '../../../DATA/DVS-CIFAR10/processed/tensor_train/'\n",
    "    \n",
    "    def __getitem__(self, index):\n",
    "        tensor_file = self.dataFiles[index]\n",
    "        tensor_data = torch.load(self.dataPath + tensor_file)\n",
    "        \n",
    "        label_pattern = r'(\\d+)_'\n",
    "        label = torch.tensor(int(re.findall(label_pattern, tensor_file)[0]), dtype = torch.int64)\n",
    "        \n",
    "        return tensor_data, label\n",
    "    \n",
    "    def __len__(self):\n",
    "        return len(self.dataFiles)"
   ]
  }
 ],
 "metadata": {
  "kernelspec": {
   "display_name": "Python 3",
   "language": "python",
   "name": "python3"
  },
  "language_info": {
   "codemirror_mode": {
    "name": "ipython",
    "version": 3
   },
   "file_extension": ".py",
   "mimetype": "text/x-python",
   "name": "python",
   "nbconvert_exporter": "python",
   "pygments_lexer": "ipython3",
   "version": "3.8.5"
  }
 },
 "nbformat": 4,
 "nbformat_minor": 4
}
