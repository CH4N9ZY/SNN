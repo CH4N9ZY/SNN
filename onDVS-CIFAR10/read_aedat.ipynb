{
 "cells": [
  {
   "cell_type": "code",
   "execution_count": 1,
   "metadata": {},
   "outputs": [],
   "source": [
    "from dv import AedatFile\n",
    "import numpy as np\n",
    "import os\n",
    "import re\n",
    "import torch"
   ]
  },
  {
   "cell_type": "code",
   "execution_count": 8,
   "metadata": {},
   "outputs": [],
   "source": [
    "dataPath = '../../../DATA/DVS-CIFAR10/processed/aedat4/'\n",
    "savePath = '../../../DATA/DVS-CIFAR10/processed/tensor_'\n",
    "files = os.listdir(dataPath)\n",
    "duration = 5\n",
    "bins = 40\n",
    "timewindow = 5*40\n",
    "label_dict = {'airplane': 0, 'automobile':1, 'bird':2, 'cat':3, 'deer':4, 'dog':5, 'frog':6, 'horse':7, 'ship':8, 'truck':9}"
   ]
  },
  {
   "cell_type": "code",
   "execution_count": 9,
   "metadata": {},
   "outputs": [],
   "source": [
    "def toTensor(dvs_data, duration, bins):\n",
    "    \n",
    "    # Access information of all events by type\n",
    "    t, x, y, p = dvs_data['timestamp'], dvs_data['x'], dvs_data['y'], dvs_data['polarity']\n",
    "\n",
    "    tensor_data = torch.zeros([bins, 2, 128, 128], dtype = torch.int)\n",
    "    for i in range(bins):\n",
    "        slice_idx = np.where((t<(i+1)*duration) &(t>=i*duration))[0]\n",
    "        for j in slice_idx:\n",
    "            tensor_data[i][p[j]][x[j]][y[j]] = 1\n",
    "    return tensor_data"
   ]
  },
  {
   "cell_type": "code",
   "execution_count": 10,
   "metadata": {},
   "outputs": [],
   "source": [
    "for file in files:\n",
    "    with AedatFile(dataPath + file) as f:\n",
    "        # events will be a named numpy array\n",
    "        dvs_data = np.hstack([packet for packet in f['events'].numpy()])\n",
    "        tensor_data = toTensor(dvs_data, duration, bins)\n",
    "        n_pattern = r'_(\\d+)'\n",
    "        n = int(re.findall(n_pattern, file)[0])\n",
    "        label_pattern = r'_([A-Za-z]+)_'\n",
    "        label = int(label_dict[re.findall(label_pattern, file)[0]])\n",
    "        if n <900:\n",
    "            torch.save(tensor_data, savePath + 'train/' + str(label) + '_' + str(n) + '.pt')\n",
    "        else:\n",
    "            torch.save(tensor_data, savePath + 'test/' + str(label) + '_' + str(n) + '.pt')"
   ]
  },
  {
   "cell_type": "code",
   "execution_count": 21,
   "metadata": {},
   "outputs": [],
   "source": []
  },
  {
   "cell_type": "code",
   "execution_count": null,
   "metadata": {},
   "outputs": [],
   "source": []
  },
  {
   "cell_type": "code",
   "execution_count": 7,
   "metadata": {},
   "outputs": [],
   "source": []
  }
 ],
 "metadata": {
  "kernelspec": {
   "display_name": "Python 3",
   "language": "python",
   "name": "python3"
  },
  "language_info": {
   "codemirror_mode": {
    "name": "ipython",
    "version": 3
   },
   "file_extension": ".py",
   "mimetype": "text/x-python",
   "name": "python",
   "nbconvert_exporter": "python",
   "pygments_lexer": "ipython3",
   "version": "3.8.5"
  }
 },
 "nbformat": 4,
 "nbformat_minor": 4
}
